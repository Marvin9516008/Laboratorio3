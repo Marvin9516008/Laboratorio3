{
  "nbformat": 4,
  "nbformat_minor": 0,
  "metadata": {
    "colab": {
      "name": "Laboratorio#3.ipynb",
      "provenance": [],
      "collapsed_sections": [],
      "authorship_tag": "ABX9TyPeqHF6IU1s1jSz0CrfIZK2",
      "include_colab_link": true
    },
    "kernelspec": {
      "name": "python3",
      "display_name": "Python 3"
    },
    "language_info": {
      "name": "python"
    }
  },
  "cells": [
    {
      "cell_type": "markdown",
      "metadata": {
        "id": "view-in-github",
        "colab_type": "text"
      },
      "source": [
        "<a href=\"https://colab.research.google.com/github/Marvin9516008/Laboratorio3/blob/main/Laboratorio_3.ipynb\" target=\"_parent\"><img src=\"https://colab.research.google.com/assets/colab-badge.svg\" alt=\"Open In Colab\"/></a>"
      ]
    },
    {
      "cell_type": "markdown",
      "source": [
        "Ciencia de Datos en Python\n",
        "Laboratorio #3 - Estructuras de Datos"
      ],
      "metadata": {
        "id": "BUeU8pU6n1a0"
      }
    },
    {
      "cell_type": "markdown",
      "source": [
        "1. Cree un procedimiento en Python dado un numero entero en decimal despliegue su representación en numero binario.\n"
      ],
      "metadata": {
        "id": "YWeC-JmZn_8f"
      }
    },
    {
      "cell_type": "code",
      "source": [
        "n=10\n",
        "def DecBin(n):\n",
        "    d=[]\n",
        "    print(\"El numero\", n , end=\"\")\n",
        "    while(n>=1):\n",
        "        d.append(n%2);\n",
        "        n=int(n/2);\n",
        "    \n",
        "    S=d[::-1]\n",
        "    \n",
        "    print(\"representa en numero binario\")\n",
        "    print(S)\n",
        "DecBin(10)"
      ],
      "metadata": {
        "colab": {
          "base_uri": "https://localhost:8080/"
        },
        "id": "O79298yIn6mh",
        "outputId": "77b0bbc9-fe05-41a2-c873-386f19ca1881"
      },
      "execution_count": 6,
      "outputs": [
        {
          "output_type": "stream",
          "name": "stdout",
          "text": [
            "El numero 10representa en numero binario\n",
            "[1, 0, 1, 0]\n"
          ]
        }
      ]
    },
    {
      "cell_type": "markdown",
      "source": [
        "2. Desarrolle en Python una funci´on que devuelva verdadero si un número entero que recibe\n",
        "como parametro es primo y devuelva falso en el caso contrario."
      ],
      "metadata": {
        "id": "R3TWBrqkpNL_"
      }
    },
    {
      "cell_type": "code",
      "source": [
        "a = 254\n",
        "def numero_primo(num):\n",
        "    contador = 0\n",
        "    for i in range(1, num+1):\n",
        "        if num % i == 0:\n",
        "            contador += 1\n",
        "    if contador == 2:\n",
        "        return True\n",
        "    else:\n",
        "        return False\n",
        "    \n",
        "print(numero_primo(a))"
      ],
      "metadata": {
        "colab": {
          "base_uri": "https://localhost:8080/"
        },
        "id": "-GAW528bpsHl",
        "outputId": "3f975b3b-99f3-47f0-90ee-75f954a9f5e9"
      },
      "execution_count": 10,
      "outputs": [
        {
          "output_type": "stream",
          "name": "stdout",
          "text": [
            "False\n"
          ]
        }
      ]
    },
    {
      "cell_type": "markdown",
      "source": [
        "3. Haga un programa en Python que dada una lista de n números, calcule la desviación estandar\n",
        "del conjunto de numeros, para este ejercicio no puede utilizar ninguna funcion que resuelva\n",
        "el problema."
      ],
      "metadata": {
        "id": "xhLdFlUXp80E"
      }
    },
    {
      "cell_type": "code",
      "source": [
        "from math import sqrt\n",
        "\n",
        "def desviacion_estandar(valores, media):\n",
        "    suma = 0\n",
        "    for valor in valores:\n",
        "        suma += (valor-media)**2\n",
        "    \n",
        "    radicando = suma / (len(valores) -1)\n",
        "\n",
        "    return sqrt(radicando)\n",
        "\n",
        "\n",
        "def calc_media(valores):\n",
        "    suma = 0\n",
        "    \n",
        "    for valor in valores:\n",
        "        suma += valor\n",
        "    \n",
        "    return suma / len(valores)\n",
        "\n",
        "if __name__ == \"_main_\":\n",
        "  numeros = [10, 20, 25, 32, 34, 44, 35, 39, 50]\n",
        "\n",
        "  media = calcular_media(numeros)\n",
        "\n",
        "  resultado = desviacion_estandar(numeros, media)\n",
        "\n",
        "  print(\"La desviacion estandar es: {}\".format(resultado))"
      ],
      "metadata": {
        "id": "gMUVLdiBqajz"
      },
      "execution_count": 12,
      "outputs": []
    },
    {
      "cell_type": "markdown",
      "source": [
        "4. Desarrolle en Python una función que dado un arreglo de corra el algoritmo de ordenamiento\n",
        "burbuja y devuelva un nuevo arreglo ordenado. Posteriormente cree una función main para\n",
        "probar su funcion."
      ],
      "metadata": {
        "id": "-HxLJgPrqou6"
      }
    },
    {
      "cell_type": "code",
      "source": [
        "def ordenamiento_burbuja(lista):\n",
        "    for n in range(len(lista) -1, 0, -1):\n",
        "        for i in range(n):\n",
        "            if lista[i] > lista [i+1]:\n",
        "               temp = lista [i]\n",
        "               lista[i] = lista[i+1]\n",
        "               lista[i+1] = temp\n",
        "\n",
        "numeros = [7, 9, 2, 13, 5, 23, 29, 11, 17]\n",
        "print(numeros)\n",
        "\n",
        "ordenamiento_burbuja(numeros)\n",
        "print(numeros)"
      ],
      "metadata": {
        "colab": {
          "base_uri": "https://localhost:8080/"
        },
        "id": "kMG_qYqSJ4Jd",
        "outputId": "ab827401-66cc-4384-abc6-c9373f8b5d28"
      },
      "execution_count": 13,
      "outputs": [
        {
          "output_type": "stream",
          "name": "stdout",
          "text": [
            "[7, 9, 2, 13, 5, 23, 29, 11, 17]\n",
            "[2, 5, 7, 9, 11, 13, 17, 23, 29]\n"
          ]
        }
      ]
    },
    {
      "cell_type": "markdown",
      "source": [
        "5. Escriba una función en Python que dada una tupla de elementos (numeros o letras) esta se\n",
        "convierta a un string. Tomar nota del siguiente ejemplo:\n",
        "Si la entrada fuera: (10, 20, 40, 5, 70)\n",
        "La salida deber´ıa ser: 102040570"
      ],
      "metadata": {
        "id": "C3-xIydYrcut"
      }
    },
    {
      "cell_type": "code",
      "source": [
        "t = (\"10\", \"20\", \"40\", \"5\", \"70\")\n",
        "type(t)\n",
        "st = \"\".join(t)\n",
        "print(st)"
      ],
      "metadata": {
        "colab": {
          "base_uri": "https://localhost:8080/"
        },
        "id": "XO_2s98TrmCv",
        "outputId": "2c952fd1-d7b8-4525-bf2c-7a847740c6be"
      },
      "execution_count": 14,
      "outputs": [
        {
          "output_type": "stream",
          "name": "stdout",
          "text": [
            "102040570\n"
          ]
        }
      ]
    },
    {
      "cell_type": "markdown",
      "source": [
        "6. Cree un programa en Python que dada una lista de tuplas, elimine las tuplas que estan vacıas.\n",
        "Tomar nota del siguiente ejemplo:\n",
        "Si la lista fuera: [(), (), (’X’,), (’a’, ’b’), (’a’, ’b’, ’c’), (’d’)]\n",
        "El resultado deber´ıa ser: [(’X’), (’a’, ’b’), (’a’, ’b’, ’c’), ’d’]\n"
      ],
      "metadata": {
        "id": "8Amj1ehxrtbh"
      }
    },
    {
      "cell_type": "code",
      "source": [
        "lis = [(), (), ('X',),('a','b'),('a', 'b','c'),('d')]\n",
        "for tuple in lis:\n",
        "    if(len(tuple)==0):\n",
        "       lis = [t for t in lis if t] \n",
        "print(lis)"
      ],
      "metadata": {
        "colab": {
          "base_uri": "https://localhost:8080/"
        },
        "id": "3eHCBa5ZsZTJ",
        "outputId": "2f2b24d1-c7c6-4e8b-cf24-0d9a4f5ccad5"
      },
      "execution_count": 15,
      "outputs": [
        {
          "output_type": "stream",
          "name": "stdout",
          "text": [
            "[('X',), ('a', 'b'), ('a', 'b', 'c'), 'd']\n"
          ]
        }
      ]
    },
    {
      "cell_type": "markdown",
      "source": [
        "7. Cree una función en Python que dada una tupla de tuplas con numeros, produzca una tupla\n",
        "con el promedio de cada tupla individual. Tomar nota del siguiente ejemplo:\n",
        "Si la tupla de entrada fuera: ((10, 10, 10, 12), (30, 45, 56, 45), (81, 80, 39, 32))\n",
        "El resultado debería ser: (10.5, 44, 58)\n"
      ],
      "metadata": {
        "id": "WEwpDYbRscbo"
      }
    },
    {
      "cell_type": "code",
      "source": [
        "nums = ((10, 10, 10, 12), (30, 45, 56, 45), (81, 80, 39, 32))\n",
        "ans = []\n",
        "for num in nums:\n",
        "   total=sum(num)/len(num)\n",
        "   ans.append(total)\n",
        "x=(ans)\n",
        "x"
      ],
      "metadata": {
        "colab": {
          "base_uri": "https://localhost:8080/"
        },
        "id": "sH_3VSLTsqT_",
        "outputId": "fde45b62-e279-408e-93a4-8b45ae394a33"
      },
      "execution_count": 16,
      "outputs": [
        {
          "output_type": "execute_result",
          "data": {
            "text/plain": [
              "[10.5, 44.0, 58.0]"
            ]
          },
          "metadata": {},
          "execution_count": 16
        }
      ]
    }
  ]
}